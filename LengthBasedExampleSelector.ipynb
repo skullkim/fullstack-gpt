{
 "cells": [
  {
   "cell_type": "code",
   "id": "initial_id",
   "metadata": {
    "collapsed": true,
    "ExecuteTime": {
     "end_time": "2024-08-12T12:56:37.762391Z",
     "start_time": "2024-08-12T12:56:37.758125Z"
    }
   },
   "source": [
    "from langchain.chat_models import ChatOpenAI\n",
    "from langchain.prompts.few_shot import FewShotPromptTemplate\n",
    "from langchain.callbacks import StreamingStdOutCallbackHandler\n",
    "from langchain.prompts.prompt import PromptTemplate\n",
    "from langchain.prompts.example_selector import LengthBasedExampleSelector\n",
    "from langchain.prompts.example_selector.base import BaseExampleSelector\n",
    "\n",
    "import os\n",
    "from dotenv import load_dotenv"
   ],
   "outputs": [],
   "execution_count": 31
  },
  {
   "metadata": {
    "ExecuteTime": {
     "end_time": "2024-08-12T12:56:38.822223Z",
     "start_time": "2024-08-12T12:56:38.816441Z"
    }
   },
   "cell_type": "code",
   "source": [
    "load_dotenv()\n",
    "openai_api_key = os.getenv(\"OPENAI_API_KEY\")"
   ],
   "id": "dc26cbf668738e47",
   "outputs": [],
   "execution_count": 32
  },
  {
   "metadata": {
    "ExecuteTime": {
     "end_time": "2024-08-12T12:35:45.538797Z",
     "start_time": "2024-08-12T12:35:45.506806Z"
    }
   },
   "cell_type": "code",
   "source": [
    "chat = ChatOpenAI(\n",
    "    temperature = 0.1,\n",
    "    streaming = True,\n",
    "    callbacks = [StreamingStdOutCallbackHandler()],\n",
    ")"
   ],
   "id": "1889bcb4b9a104a3",
   "outputs": [],
   "execution_count": 4
  },
  {
   "metadata": {
    "ExecuteTime": {
     "end_time": "2024-08-12T12:35:55.588499Z",
     "start_time": "2024-08-12T12:35:55.584211Z"
    }
   },
   "cell_type": "code",
   "source": [
    "examples = [\n",
    "    {\n",
    "        \"country\": \"What do you konw about France?\",\n",
    "        \"answer\": \"\"\"\n",
    "        Here is what I Know:\n",
    "        Capital: Paris\n",
    "        Language: French\n",
    "        Food: Wine and Cheese\n",
    "        Currency: Curo\n",
    "        \"\"\",\n",
    "    }, {\n",
    "        \"country\": \"What do you know about Italy?\",\n",
    "        \"answer\": \"\"\"\n",
    "        I know this:\n",
    "        Capital: Rome\n",
    "        Language: Italian\n",
    "        Food: Pizza and Pasta\n",
    "        Currency: Euro\n",
    "        \"\"\",\n",
    "    }, {\n",
    "        \"country\": \"What do you know about Greece?\",\n",
    "        \"answer\": \"\"\"\n",
    "        I know this:\n",
    "        Capital: Athens\n",
    "        Language: Greek\n",
    "        Food: Souvlaki and Feta Cheese\n",
    "        Currency: Euro\n",
    "        \"\"\"\n",
    "    }\n",
    "]"
   ],
   "id": "d2332e3edddfc056",
   "outputs": [],
   "execution_count": 5
  },
  {
   "metadata": {
    "ExecuteTime": {
     "end_time": "2024-08-12T13:00:44.699199Z",
     "start_time": "2024-08-12T13:00:44.694631Z"
    }
   },
   "cell_type": "code",
   "source": [
    "class RandomExampleSelector(BaseExampleSelector):\n",
    "    def __init__(self, examples):\n",
    "        self.examples = examples\n",
    "    \n",
    "    def add_example(self, example):\n",
    "        self.examples.append(example)\n",
    "    \n",
    "    def select_examples(self, input_variables):\n",
    "        from random import choice\n",
    "        return [choice(examples)]"
   ],
   "id": "2ac3cb7578f36836",
   "outputs": [],
   "execution_count": 41
  },
  {
   "metadata": {
    "ExecuteTime": {
     "end_time": "2024-08-12T13:00:45.344365Z",
     "start_time": "2024-08-12T13:00:45.340645Z"
    }
   },
   "cell_type": "code",
   "source": "example_prompt = PromptTemplate.from_template(\"Human: {country}\\nAI:{answer}\")\n",
   "id": "190184c756afb5a0",
   "outputs": [],
   "execution_count": 42
  },
  {
   "metadata": {
    "ExecuteTime": {
     "end_time": "2024-08-12T13:00:45.800715Z",
     "start_time": "2024-08-12T13:00:45.797404Z"
    }
   },
   "cell_type": "code",
   "source": [
    "example_selector = RandomExampleSelector(\n",
    "    examples=examples,\n",
    ")"
   ],
   "id": "9b5686a890409be8",
   "outputs": [],
   "execution_count": 43
  },
  {
   "metadata": {
    "ExecuteTime": {
     "end_time": "2024-08-12T13:00:54.368411Z",
     "start_time": "2024-08-12T13:00:54.364400Z"
    }
   },
   "cell_type": "code",
   "source": [
    "prompt = FewShotPromptTemplate(\n",
    "    example_prompt = example_prompt,\n",
    "    example_selector = example_selector,\n",
    "    suffix=\"Human: What do you know about {country}?\",\n",
    "    input_variables=[\"country\"], \n",
    ")"
   ],
   "id": "efe9b0bc92f9602f",
   "outputs": [],
   "execution_count": 44
  },
  {
   "metadata": {
    "ExecuteTime": {
     "end_time": "2024-08-12T13:00:55.020042Z",
     "start_time": "2024-08-12T13:00:55.014550Z"
    }
   },
   "cell_type": "code",
   "source": "prompt.format(country=\"Brazil\")",
   "id": "b8e7d7f1ba4eb2a6",
   "outputs": [
    {
     "data": {
      "text/plain": [
       "'Human: What do you know about Italy?\\nAI:\\n        I know this:\\n        Capital: Rome\\n        Language: Italian\\n        Food: Pizza and Pasta\\n        Currency: Euro\\n        \\n\\nHuman: What do you know about Brazil?'"
      ]
     },
     "execution_count": 45,
     "metadata": {},
     "output_type": "execute_result"
    }
   ],
   "execution_count": 45
  },
  {
   "metadata": {
    "ExecuteTime": {
     "end_time": "2024-08-12T12:40:40.602197Z",
     "start_time": "2024-08-12T12:40:40.597896Z"
    }
   },
   "cell_type": "code",
   "source": "chain = prompt | chat",
   "id": "15149660a5c75d29",
   "outputs": [],
   "execution_count": 14
  },
  {
   "metadata": {
    "ExecuteTime": {
     "end_time": "2024-08-12T12:40:42.408439Z",
     "start_time": "2024-08-12T12:40:41.064290Z"
    }
   },
   "cell_type": "code",
   "source": "chain.invoke({\"country\": \"Turkey\"})",
   "id": "5224397929327cbc",
   "outputs": [
    {
     "name": "stdout",
     "output_type": "stream",
     "text": [
      "AI:\n",
      "        I know this:\n",
      "        Capital: Ankara\n",
      "        Language: Turkish\n",
      "        Food: Kebab and Baklava\n",
      "        Currency: Turkish Lira"
     ]
    },
    {
     "data": {
      "text/plain": [
       "AIMessageChunk(content='AI:\\n        I know this:\\n        Capital: Ankara\\n        Language: Turkish\\n        Food: Kebab and Baklava\\n        Currency: Turkish Lira')"
      ]
     },
     "execution_count": 15,
     "metadata": {},
     "output_type": "execute_result"
    }
   ],
   "execution_count": 15
  },
  {
   "metadata": {},
   "cell_type": "code",
   "outputs": [],
   "execution_count": null,
   "source": "",
   "id": "e482580292d2f544"
  }
 ],
 "metadata": {
  "kernelspec": {
   "display_name": "Python 3",
   "language": "python",
   "name": "python3"
  },
  "language_info": {
   "codemirror_mode": {
    "name": "ipython",
    "version": 2
   },
   "file_extension": ".py",
   "mimetype": "text/x-python",
   "name": "python",
   "nbconvert_exporter": "python",
   "pygments_lexer": "ipython2",
   "version": "2.7.6"
  }
 },
 "nbformat": 4,
 "nbformat_minor": 5
}
