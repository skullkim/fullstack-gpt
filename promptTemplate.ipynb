{
 "cells": [
  {
   "cell_type": "code",
   "execution_count": 13,
   "id": "initial_id",
   "metadata": {
    "collapsed": true,
    "ExecuteTime": {
     "end_time": "2024-07-27T01:29:26.850772917Z",
     "start_time": "2024-07-27T01:29:26.643926428Z"
    }
   },
   "outputs": [],
   "source": [
    "from langchain.prompts import PromptTemplate, ChatPromptTemplate\n",
    "from langchain.chat_models import ChatOpenAI\n",
    "\n",
    "from dotenv import load_dotenv\n",
    "import os"
   ]
  },
  {
   "cell_type": "code",
   "outputs": [],
   "source": [
    "load_dotenv()\n",
    "openai_api_key = os.getenv('OPENAI_API_KEY')"
   ],
   "metadata": {
    "collapsed": false,
    "ExecuteTime": {
     "end_time": "2024-07-27T01:29:28.367650199Z",
     "start_time": "2024-07-27T01:29:28.363054666Z"
    }
   },
   "id": "56dd50b0841a4982",
   "execution_count": 14
  },
  {
   "cell_type": "code",
   "outputs": [],
   "source": [
    "chat = ChatOpenAI(\n",
    "    openai_api_key = openai_api_key,\n",
    "    temperature = 0.1\n",
    ")"
   ],
   "metadata": {
    "collapsed": false
   },
   "id": "38d2f79802cd3324"
  },
  {
   "cell_type": "code",
   "outputs": [],
   "source": [
    "template = PromptTemplate.from_template(\n",
    "    template = \"What is the distance between {country_a} and {country_b}?\",\n",
    "    input_variabltes = [\"country_a\", \"country_b\"]\n",
    ")\n",
    "\n",
    "prompt = template.format(\n",
    "    country_a= \"Mexio\",\n",
    "    country_b = \"Thailand\"\n",
    ")"
   ],
   "metadata": {
    "collapsed": false,
    "ExecuteTime": {
     "end_time": "2024-07-27T01:29:28.740465750Z",
     "start_time": "2024-07-27T01:29:28.737206422Z"
    }
   },
   "id": "d9f32df12e036721",
   "execution_count": 15
  },
  {
   "cell_type": "code",
   "outputs": [],
   "source": [],
   "metadata": {
    "collapsed": false,
    "ExecuteTime": {
     "end_time": "2024-07-27T01:29:30.116308166Z",
     "start_time": "2024-07-27T01:29:30.104066182Z"
    }
   },
   "id": "c09cf2e0029df73",
   "execution_count": 16
  },
  {
   "cell_type": "code",
   "outputs": [
    {
     "data": {
      "text/plain": "'The distance between Mexico and Thailand is approximately 9,800 miles (15,800 kilometers) when measured in a straight line.'"
     },
     "execution_count": 17,
     "metadata": {},
     "output_type": "execute_result"
    }
   ],
   "source": [
    "chat.predict(prompt)"
   ],
   "metadata": {
    "collapsed": false,
    "ExecuteTime": {
     "end_time": "2024-07-27T01:29:49.873611840Z",
     "start_time": "2024-07-27T01:29:48.764555254Z"
    }
   },
   "id": "454028608c315947",
   "execution_count": 17
  },
  {
   "cell_type": "code",
   "outputs": [],
   "source": [],
   "metadata": {
    "collapsed": false
   },
   "id": "c26d4d492ab69cd8"
  }
 ],
 "metadata": {
  "kernelspec": {
   "display_name": "Python 3",
   "language": "python",
   "name": "python3"
  },
  "language_info": {
   "codemirror_mode": {
    "name": "ipython",
    "version": 2
   },
   "file_extension": ".py",
   "mimetype": "text/x-python",
   "name": "python",
   "nbconvert_exporter": "python",
   "pygments_lexer": "ipython2",
   "version": "2.7.6"
  }
 },
 "nbformat": 4,
 "nbformat_minor": 5
}
